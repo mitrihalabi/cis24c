{
 "cells": [
  {
   "cell_type": "markdown",
   "metadata": {},
   "source": [
    "\n",
    "# CIS024C - Summer 2018\n",
    "\n",
    "## Homework 11\n",
    "\n",
    "Homework 11 covers object oriented programming in Python\n",
    "\n",
    "The below sites have some interesting and useful information on working with files\n",
    "\n",
    "https://drive.google.com/open?id=1OrcpXEmhvgcJxSlchIBsvmXST0lG_uKx\n",
    "http://www.tutorialspoint.com/python/python_classes_objects.htm\n",
    "\n",
    "You will need to download this notebook and use this as a starting point for your homework. You will just need to fill in the content of each code-block (cell) and execute. Once you have completed all the exercises, you will need to save and upload this to your github repository under a folder called hw10.\n",
    "\n",
    "Note also the exercises build on top of one another so you might be able to do the next exercise if you have not completed the previous exercise.\n",
    "\n",
    "Post any questions you have on our Slack at **cis-024c1.slack.com**\n",
    "\n",
    "Slides\n",
    "\n",
    "https://docs.google.com/presentation/d/1AigvCKV1yb3PrrcT5xt3IqyAwGpv6IKMNWYUiQ2Oy6k/edit?usp=sharing\n",
    "\n",
    "**Please refer back to hw1 and slack for instructions on how to setup your computer for developing using Python.**"
   ]
  },
  {
   "cell_type": "markdown",
   "metadata": {},
   "source": [
    "### Helpful Jupyter Commands\n",
    "\n",
    "Below are some useful commands to know when using Jupyter\n",
    "\n",
    "1. You can add a new cell by clicking on the \"+\" icon on top.\n",
    "2. You can delete a cell by selecting that cell and clicking on the \"scissors\" icon on top.\n",
    "3. You can execute a cell by either pressing shift+enter or selecting the \"play\" button on top.\n",
    "4. You can create a new file in Jupyter via the File menu->New Notebook option. Make sure to select Python 2 when creating your notebook.\n",
    "5. Also, for your code blocks make sure that Code is selected instead of another option like Markdown.\n",
    "6. Use the Enter key to go to the next line in a cell to enter the next statement.\n",
    "7. You can clear results by clicking on the Cell menu item and selecting Current Output->Clear or All Output->Clear depending on whether you are trying to just clear the output for one cell or for all cells.\n",
    "8. In case your program has crashed for some reason (infinite loop, for example), you can restart your Python session by select Kernel in the menu and selecting Restart.\n"
   ]
  },
  {
   "cell_type": "markdown",
   "metadata": {},
   "source": [
    "#### Check Python Version"
   ]
  },
  {
   "cell_type": "code",
   "execution_count": 77,
   "metadata": {},
   "outputs": [
    {
     "name": "stdout",
     "output_type": "stream",
     "text": [
      "Python 3.6.5 :: Anaconda, Inc.\r\n"
     ]
    }
   ],
   "source": [
    "!python --version"
   ]
  },
  {
   "cell_type": "markdown",
   "metadata": {},
   "source": [
    "**Exercise 1 - Testing your knowledge of object oriented programming concepts **\n",
    "\n",
    "Answer the below questions\n",
    "\n",
    "1. Why do we need classes?\n",
    "2. What is encapsulation?"
   ]
  },
  {
   "cell_type": "markdown",
   "metadata": {},
   "source": [
    "Why do we need classes?  \n",
    "Classes create a template for objects, that include fields and methods to process those fields. Classes allow for the creation of processing of large data structures and applying common functions that are relevant to those structures. Also Classes allows for restricting access to information, for example to functions created in the Class. A class is the foundation of Object Oriented programming. In Python almost all types are derived from a Class, and Python in general is designed as an object Oriented language. Classes also allow overloading of functions depending on Class type and allow class inheritance, thereby building more specific classes on top of other classes without having to rebuild every property. "
   ]
  },
  {
   "cell_type": "markdown",
   "metadata": {},
   "source": [
    "What is encapsultion?\n",
    "In an object oriented python program, you can restrict access to methods and variables. This can prevent the data from being modified by accident and is known as encapsulation. A good example of this is variables of an object of a Class can be made to be modified using only fucntions in the class, thus restricting access to these variables, and preventing the data from being modified inadvertently."
   ]
  },
  {
   "cell_type": "markdown",
   "metadata": {},
   "source": [
    "** Exercise 2 - Class creation **\n",
    "\n",
    "Create a Python class named **Employee** with the following attributes and methods\n",
    "\n",
    "Data members\n",
    "```\n",
    "1. employeeName  - type string\n",
    "2. employeeAge  - type int\n",
    "3. employeeSalary - type float\n",
    "```\n",
    "\n",
    "Methods:\n",
    "```\n",
    "1. getEmployee - returns employee name\n",
    "2. getEmployeeAge - gets the employee age\n",
    "3. getEmployeeSalary - returns the employee salary\n",
    "4. __init__ - initialize method accepts the name, age and salary of the employee\n",
    "```\n",
    "\n",
    "Create an object of type Employee and initialize with arbitrary values. Invoke the get methods and display the result."
   ]
  },
  {
   "cell_type": "code",
   "execution_count": 17,
   "metadata": {},
   "outputs": [],
   "source": [
    "class Employee(object):\n",
    "    \n",
    "    def __init__(self, name, age, salary):\n",
    "        self.employeeName = name\n",
    "        self.employeeAge = age\n",
    "        self.employeeSalary = float(salary)\n",
    "        \n",
    "    def getEmployeeName(self):\n",
    "        return self.employeeName\n",
    "        \n",
    "    def getEmployeeAge(self):\n",
    "        return self.employeeAge\n",
    "        \n",
    "    def getEmployeeSalary(self):\n",
    "        return self.employeeSalary"
   ]
  },
  {
   "cell_type": "code",
   "execution_count": 18,
   "metadata": {},
   "outputs": [
    {
     "name": "stdout",
     "output_type": "stream",
     "text": [
      "Employee Name: Michael Smith\n",
      "Employee Age: 25\n",
      "Employee Salary: 25000.00\n"
     ]
    }
   ],
   "source": [
    "employee1 = Employee(\"Michael Smith\", 25, 25000.00)\n",
    "print(\"Employee Name:\", employee1.getEmployeeName())\n",
    "print(\"Employee Age:\", employee1.getEmployeeAge())\n",
    "print(\"Employee Salary: %0.2f\" % employee1.getEmployeeSalary())"
   ]
  },
  {
   "cell_type": "markdown",
   "metadata": {},
   "source": [
    "#### Exercise 3 - Private members\n",
    "\n",
    "In the above **Employee** class make the employeeName, employeeAge and employeeSalary private so that their access is restricted to only within the class."
   ]
  },
  {
   "cell_type": "code",
   "execution_count": 19,
   "metadata": {},
   "outputs": [],
   "source": [
    "class Employee(object):\n",
    "    \n",
    "    def __init__(self, name, age, salary):\n",
    "        self.__employeeName = name\n",
    "        self.__employeeAge = age\n",
    "        self.__employeeSalary = float(salary)\n",
    "        \n",
    "    def getEmployeeName(self):\n",
    "        return self.__employeeName\n",
    "        \n",
    "    def getEmployeeAge(self):\n",
    "        return self.__employeeAge\n",
    "        \n",
    "    def getEmployeeSalary(self):\n",
    "        return self.__employeeSalary"
   ]
  },
  {
   "cell_type": "code",
   "execution_count": 20,
   "metadata": {},
   "outputs": [
    {
     "name": "stdout",
     "output_type": "stream",
     "text": [
      "Employee Name: Michael Smith\n",
      "Employee Age: 25\n",
      "Employee Salary: 25000.00\n"
     ]
    }
   ],
   "source": [
    "#show access to hidden attributes using the get functions\n",
    "employee1 = Employee(\"Michael Smith\", 25, 25000.00)\n",
    "print(\"Employee Name:\", employee1.getEmployeeName())\n",
    "print(\"Employee Age:\", employee1.getEmployeeAge())\n",
    "print(\"Employee Salary: %0.2f\" % employee1.getEmployeeSalary())"
   ]
  },
  {
   "cell_type": "code",
   "execution_count": 21,
   "metadata": {},
   "outputs": [
    {
     "ename": "AttributeError",
     "evalue": "'Employee' object has no attribute '__employeeName'",
     "output_type": "error",
     "traceback": [
      "\u001b[0;31m---------------------------------------------------------------------------\u001b[0m",
      "\u001b[0;31mAttributeError\u001b[0m                            Traceback (most recent call last)",
      "\u001b[0;32m<ipython-input-21-53c9f43c4e8c>\u001b[0m in \u001b[0;36m<module>\u001b[0;34m()\u001b[0m\n\u001b[1;32m      1\u001b[0m \u001b[0;31m#Show direct access to hidden attributes is not allowed\u001b[0m\u001b[0;34m\u001b[0m\u001b[0;34m\u001b[0m\u001b[0m\n\u001b[0;32m----> 2\u001b[0;31m \u001b[0mprint\u001b[0m\u001b[0;34m(\u001b[0m\u001b[0memployee1\u001b[0m\u001b[0;34m.\u001b[0m\u001b[0m__employeeName\u001b[0m\u001b[0;34m)\u001b[0m\u001b[0;34m\u001b[0m\u001b[0m\n\u001b[0m",
      "\u001b[0;31mAttributeError\u001b[0m: 'Employee' object has no attribute '__employeeName'"
     ]
    }
   ],
   "source": [
    "#Show Error when trying a direct access to hidden attributes\n",
    "print(employee1.__employeeName)"
   ]
  },
  {
   "cell_type": "code",
   "execution_count": 22,
   "metadata": {},
   "outputs": [
    {
     "name": "stdout",
     "output_type": "stream",
     "text": [
      "Michael Smith\n"
     ]
    }
   ],
   "source": [
    "#Show acces to hidden attributes using the special _Class__attribute name, however this is discouraged\n",
    "print(employee1._Employee__employeeName)"
   ]
  },
  {
   "cell_type": "markdown",
   "metadata": {},
   "source": [
    "#### Exercise 4 - Adding setters and working with a list of Employees\n",
    "\n",
    "In the **Employee** class add the following methods\n",
    "\n",
    "```\n",
    "1. setEmployeeAge - accepts age and sets it in the object\n",
    "2. setEmployeeName - accepts employee name and sets it in the object\n",
    "3. setEmployeeSalary - accepts employee salary and sets it i nthe object\n",
    "```\n",
    "\n",
    "Create a list of employees called employeeList. Initialize the list with three objects of type Employee. Initialize the object with the values \"None\" for employeeName, 0 for employeeAge and 0 for employeeSalary.\n",
    "\n",
    "Loop  through each employee in the employeeList. Each time, request the user to enter the name, age and salary of a different employee. Use the set methods to set the name, age and salary for each employee in the employeeList.\n",
    "\n",
    "Loop through each employee in the employeeList. Display the name, age and salary of each employee."
   ]
  },
  {
   "cell_type": "code",
   "execution_count": 80,
   "metadata": {},
   "outputs": [],
   "source": [
    "class Employee(object):\n",
    "    \n",
    "    def __init__(self, name, age, salary):\n",
    "        self.employeeName = name\n",
    "        self.employeeAge = age\n",
    "        self.employeeSalary = float(salary)\n",
    "        \n",
    "    def getEmployeeName(self):\n",
    "        return self.employeeName\n",
    "        \n",
    "    def getEmployeeAge(self):\n",
    "        return self.employeeAge\n",
    "        \n",
    "    def getEmployeeSalary(self):\n",
    "        return self.employeeSalary\n",
    "    \n",
    "    def setEmployeeName(self, name):\n",
    "        self.employeeName = name\n",
    "        \n",
    "    def setEmployeeAge(self, age):\n",
    "        self.employeeAge = age\n",
    "        \n",
    "    def setEmployeeSalary(self, salary):\n",
    "        self.employeeSalary = float(salary)"
   ]
  },
  {
   "cell_type": "code",
   "execution_count": 81,
   "metadata": {},
   "outputs": [
    {
     "name": "stdout",
     "output_type": "stream",
     "text": [
      "Enter employee 1 name: Michael Hale\n",
      "Enter employee 1 age: 34\n",
      "Enter employee 1 salary: 26400\n",
      "Enter employee 2 name: Sam Peterson\n",
      "Enter employee 2 age: 24\n",
      "Enter employee 2 salary: 27600\n",
      "Enter employee 3 name: Tom Smith\n",
      "Enter employee 3 age: 54\n",
      "Enter employee 3 salary: 43200\n",
      "\n",
      "Employee 1\n",
      "Employee name: Michael Hale\n",
      "Employee age: 34\n",
      "Employee salary: 26400.00\n",
      "\n",
      "Employee 2\n",
      "Employee name: Sam Peterson\n",
      "Employee age: 24\n",
      "Employee salary: 27600.00\n",
      "\n",
      "Employee 3\n",
      "Employee name: Tom Smith\n",
      "Employee age: 54\n",
      "Employee salary: 43200.00\n",
      "\n"
     ]
    }
   ],
   "source": [
    "employeeList = []\n",
    "for i in range(3):\n",
    "    employeeList.append(Employee(None, 0, 0))\n",
    "index = 1\n",
    "for employee in employeeList:\n",
    "    employee.setEmployeeName(input(\"Enter employee \" + str(index) + \" name: \"))\n",
    "    employee.setEmployeeAge(int(input(\"Enter employee \" + str(index) + \" age: \")))\n",
    "    employee.setEmployeeSalary(float(input(\"Enter employee \" + str(index) + \" salary: \")))\n",
    "    index += 1\n",
    "index = 1\n",
    "print()\n",
    "for employee in employeeList:\n",
    "    print(\"Employee \" + str(index))\n",
    "    print(\"Employee name:\", employee.getEmployeeName())\n",
    "    print(\"Employee age:\", employee.getEmployeeAge())\n",
    "    print(\"Employee salary: %0.2f\" % employee.getEmployeeSalary())\n",
    "    print()\n",
    "    index += 1\n",
    "    "
   ]
  },
  {
   "cell_type": "markdown",
   "metadata": {},
   "source": [
    "#### Exercise 5 -  Creating a Python calculator class\n",
    "\n",
    "Create a Python class called Calculator. \n",
    "\n",
    "The class has the following data members\n",
    "\n",
    "```\n",
    "1. number1 - type float\n",
    "2. number2 - type float\n",
    "```\n",
    "\n",
    "The class must have the below methods\n",
    "\n",
    "```\n",
    "1. add - adds two numbers and returns the result\n",
    "2. subtract - subtracts the first number from the second number and returns the result\n",
    "3. multiply - multiply two numbers and returns the result\n",
    "4. divide - divide the first number by the second number and returns the result\n",
    "5. __init__ - accepts two numbers and uses those numbers to initialize number1 and number2 respectively\n",
    "```\n",
    "\n",
    "Create an object of the Calculator class. Initialize it with any two arbitrary numbers. Invoke the methods add, subtract, multiple and divide and display the result\n",
    "\n",
    "\n"
   ]
  },
  {
   "cell_type": "code",
   "execution_count": 33,
   "metadata": {},
   "outputs": [],
   "source": [
    "class Calculator(object):\n",
    "    \n",
    "    def __init__(self, number1, number2):\n",
    "        self.number1 = float(number1)\n",
    "        self.number2 = float(number2)\n",
    "        \n",
    "    def add(self):\n",
    "        return (self.number1 + self.number2)\n",
    "        \n",
    "    def subtract(self):\n",
    "        return (self.number1 - self.number2)\n",
    "    \n",
    "    def multiply(self):\n",
    "        return (self.number1 * self.number2) \n",
    "    \n",
    "    def divide(self):\n",
    "        return (self.number1 / self.number2)    "
   ]
  },
  {
   "cell_type": "code",
   "execution_count": 34,
   "metadata": {},
   "outputs": [
    {
     "name": "stdout",
     "output_type": "stream",
     "text": [
      "9.0\n",
      "-3.0\n",
      "18.0\n",
      "0.5\n"
     ]
    }
   ],
   "source": [
    "result = Calculator(3.00 , 6.00) \n",
    "print(result.add())\n",
    "print(result.subtract())\n",
    "print(result.multiply())\n",
    "print(result.divide())"
   ]
  },
  {
   "cell_type": "markdown",
   "metadata": {},
   "source": [
    "# Optional Exercise"
   ]
  },
  {
   "cell_type": "markdown",
   "metadata": {},
   "source": [
    "#### Exercise 6"
   ]
  },
  {
   "cell_type": "markdown",
   "metadata": {
    "collapsed": true
   },
   "source": [
    "In the next two problems, you’ll be building an address book using object-­‐oriented programming in Python. To begin, you’ll define a Person class. You’ll use this class in the next problem to build your address book – each entry in your address book will be an instance of the Person class.\n",
    "\n",
    "To begin, define the    init    and    str    methods for the Person class. Read the Python documentation if needed to help you understand what    init__ and    str \t need to do.\n",
    "\n",
    "Here’s an example interaction in the Python shell demonstrating how your class should work after implementing these two methods:"
   ]
  },
  {
   "cell_type": "raw",
   "metadata": {},
   "source": [
    "Emily = Person(“Zhang”, “Emily”, “5559358150”, “emzhang@mit.edu”)\n",
    "print Emily\n",
    "Zhang, Emily -- Phone Number: 5559358150 -- Email Address(es): emzhang@mit.edu\n",
    "Wesley = Person(“Graybill”, “Wesley”, “5551940325”, [‘wgray496@mit.edu’, ‘wdgraybill@gmail.com’])\n",
    "print Wesley\n",
    "Graybill, Wesley -- Phone Number: 5551940325 -- Email Address(es): wgray496@mit.edu, wdgraybill@gmail.com"
   ]
  },
  {
   "cell_type": "code",
   "execution_count": 82,
   "metadata": {},
   "outputs": [],
   "source": [
    "class Person(object):\n",
    "    \n",
    "    def __init__(self, lastName, firstName, phoneNumber, email):\n",
    "        self.lastName = lastName\n",
    "        self.firstName = firstName\n",
    "        self.phoneNumber = phoneNumber\n",
    "        if isinstance(email, list):\n",
    "            self.email = email\n",
    "        else:\n",
    "            self.email = [email]\n",
    "\n",
    "    def __str__(self):\n",
    "        outString = self.lastName + \", \" + self.firstName + \" -- Phone Number: \" \\\n",
    "                     + self.phoneNumber + \" -- Email Address(es): \" + ', '.join(self.email)\n",
    "        return outString"
   ]
  },
  {
   "cell_type": "code",
   "execution_count": 83,
   "metadata": {},
   "outputs": [
    {
     "name": "stdout",
     "output_type": "stream",
     "text": [
      "Zhang, Emily -- Phone Number: 5559358150 -- Email Address(es): emzhang@mit.edu\n",
      "Graybill, Wesley -- Phone Number: 5551940325 -- Email Address(es): wgray496@mit.edu, wdgraybill@gmail.com\n"
     ]
    }
   ],
   "source": [
    "Emily = Person(\"Zhang\", \"Emily\", \"5559358150\", \"emzhang@mit.edu\")\n",
    "print(Emily)\n",
    "Wesley = Person(\"Graybill\", \"Wesley\", \"5551940325\", [\"wgray496@mit.edu\", \"wdgraybill@gmail.com\"])\n",
    "print(Wesley)"
   ]
  },
  {
   "cell_type": "markdown",
   "metadata": {},
   "source": [
    "#### Exercise 7"
   ]
  },
  {
   "cell_type": "markdown",
   "metadata": {},
   "source": [
    "In this problem, you will use your Person class from the previous problem to create an address book for storing the contacts of your friends and family. It should allow you to search the address book for a friend, and return their contact information.\n",
    "\n",
    "Begin by defining an   init   method. Don’t forget about Python's built-­‐in dictionary data type.\n",
    "\n",
    "Next, write a method add_contact that allows you to add a new person to the address book.\n",
    "\n",
    "Finally, write a method lookup_contact that looks up a contact by last name. The method should accept the last name as an argument, and print each contact that matches the last name on a new line. As an additional challenge, extend this method to allow users to optionally specify a first name to narrow down the results when multiple contacts have the same last name. To learn more about optional arguments in Python, search for terms such as “optional arguments in Python” and “default arguments in Python”.\n",
    "\n",
    "For example, suppose the contact book contains entries for both Ali Kamil, and his wife Sama Kamil. The following is an example output:\n"
   ]
  },
  {
   "cell_type": "raw",
   "metadata": {},
   "source": [
    ">>> a = AddressBook()\n",
    ">>> a.add_person(Person(“Kamil”, “Ali”, … ))\n",
    ">>> a.add_person(Person(“Kamil”, “Sama”, … ))\n",
    ">>> a.lookup_contact(“Kamil”) Kamil, Ali -- Phone Number: … Kamil, Sama -- Phone Number: …\n",
    ">>> a.lookup_contact(“Kamil”, “Ali”)\n",
    "Kamil, Ali -- Phone Number: …\n"
   ]
  },
  {
   "cell_type": "code",
   "execution_count": 84,
   "metadata": {},
   "outputs": [],
   "source": [
    "class AddressBook(object):\n",
    "    \n",
    "    def __init__(self):   \n",
    "        self.book = {}\n",
    "        \n",
    "    def add_person(self, person):\n",
    "        if self.book.get(person.lastName):\n",
    "            self.book[person.lastName].append(person)\n",
    "        else:\n",
    "            self.book[person.lastName] = [person]\n",
    "    \n",
    "    def lookup_contact(self, keyString1, keyString2 = None):\n",
    "        if self.book.get(keyString1):\n",
    "            if keyString2:\n",
    "                for item in self.book[keyString1]:\n",
    "                    if item.firstName == keyString2:\n",
    "                        print(item)\n",
    "            else:\n",
    "                for item in self.book[keyString1]:\n",
    "                    print(item)\n",
    "        \n",
    "\n"
   ]
  },
  {
   "cell_type": "code",
   "execution_count": 85,
   "metadata": {},
   "outputs": [
    {
     "name": "stdout",
     "output_type": "stream",
     "text": [
      "Graybill, Wesley -- Phone Number: 5551940325 -- Email Address(es): wgray496@mit.edu, wdgraybill@gmail.com\n",
      "Graybill, Sal -- Phone Number: 5551940337 -- Email Address(es): sgray23@mit.edu, sdgray12@gmail.com\n"
     ]
    }
   ],
   "source": [
    "person1 = Person(\"Zhang\", \"Emily\", \"5559358150\", \"emzhang@mit.edu\")\n",
    "person2 = Person(\"Graybill\", \"Wesley\", \"5551940325\", [\"wgray496@mit.edu\", \"wdgraybill@gmail.com\"])\n",
    "person3 = Person(\"Graybill\", \"Sal\", \"5551940337\", [\"sgray23@mit.edu\", \"sdgray12@gmail.com\"])\n",
    "person4 = Person(\"Hale\", \"Sal\", \"555931234\", \"salhale@mit.edu\")\n",
    "a = AddressBook()\n",
    "a.add_person(person1)\n",
    "a.add_person(person2)\n",
    "a.add_person(person3)\n",
    "a.add_person(person4)\n",
    "a.lookup_contact(\"Graybill\")"
   ]
  },
  {
   "cell_type": "code",
   "execution_count": 86,
   "metadata": {},
   "outputs": [
    {
     "name": "stdout",
     "output_type": "stream",
     "text": [
      "Graybill, Sal -- Phone Number: 5551940337 -- Email Address(es): sgray23@mit.edu, sdgray12@gmail.com\n"
     ]
    }
   ],
   "source": [
    "a.lookup_contact(\"Graybill\", \"Sal\")"
   ]
  },
  {
   "cell_type": "code",
   "execution_count": 87,
   "metadata": {},
   "outputs": [
    {
     "name": "stdout",
     "output_type": "stream",
     "text": [
      "Hale, Sal -- Phone Number: 555931234 -- Email Address(es): salhale@mit.edu\n"
     ]
    }
   ],
   "source": [
    "a.lookup_contact(\"Hale\")"
   ]
  }
 ],
 "metadata": {
  "kernelspec": {
   "display_name": "Python 3",
   "language": "python",
   "name": "python3"
  },
  "language_info": {
   "codemirror_mode": {
    "name": "ipython",
    "version": 3
   },
   "file_extension": ".py",
   "mimetype": "text/x-python",
   "name": "python",
   "nbconvert_exporter": "python",
   "pygments_lexer": "ipython3",
   "version": "3.6.5"
  }
 },
 "nbformat": 4,
 "nbformat_minor": 2
}
