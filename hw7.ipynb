{
 "cells": [
  {
   "cell_type": "markdown",
   "metadata": {},
   "source": [
    "\n",
    "# CIS024C - Summer 2018 \n",
    "\n",
    "## Homework 7\n",
    "\n",
    "Homework 7 covers exercises that involve working with functions\n",
    "\n",
    "The below sites have some interesting and useful information on working with files\n",
    "\n",
    "https://www.learnpython.org/en/Functions\n",
    "https://www.tutorialspoint.com/python/python_functions.htm\n",
    "\n",
    "You will need to download this notebook and use this as a starting point for your homework. You will just need to fill in the content of each code-block (cell) and execute. Once you have completed all the exercises.\n",
    "\n",
    "Note also the exercises build on top of one another so you might be able to do the next exercise if you have not completed the previous exercise.\n",
    "\n",
    "Post any questions you have on our Slack at **cis-024c1.slack.com**\n",
    "\n",
    "** Slides ** for Week 6 can be found at \n",
    "\n",
    "https://docs.google.com/presentation/d/1XGV2NR0ZAAmQYjlRuy81zzlW2g5lWS8L6a7iRV-lreQ/edit?usp=sharing\n",
    "\n",
    "**Please refer back to hw1 and slack for instructions on how to setup your computer for developing using Python.**"
   ]
  },
  {
   "cell_type": "markdown",
   "metadata": {},
   "source": [
    "### Helpful Jupyter Commands\n",
    "\n",
    "Below are some useful commands to know when using Jupyter\n",
    "\n",
    "1. You can add a new cell by clicking on the \"+\" icon on top.\n",
    "2. You can delete a cell by selecting that cell and clicking on the \"scissors\" icon on top.\n",
    "3. You can execute a cell by either pressing shift+enter or selecting the \"play\" button on top.\n",
    "4. You can create a new file in Jupyter via the File menu->New Notebook option. Make sure to select Python 2 when creating your notebook.\n",
    "5. Also, for your code blocks make sure that Code is selected instead of another option like Markdown.\n",
    "6. Use the Enter key to go to the next line in a cell to enter the next statement.\n",
    "7. You can clear results by clicking on the Cell menu item and selecting Current Output->Clear or All Output->Clear depending on whether you are trying to just clear the output for one cell or for all cells.\n",
    "8. In case your program has crashed for some reason (infinite loop, for example), you can restart your Python session by select Kernel in the menu and selecting Restart.\n"
   ]
  },
  {
   "cell_type": "markdown",
   "metadata": {},
   "source": [
    "#### Check Python Version"
   ]
  },
  {
   "cell_type": "code",
   "execution_count": 3,
   "metadata": {},
   "outputs": [
    {
     "name": "stdout",
     "output_type": "stream",
     "text": [
      "Python 3.6.5 :: Anaconda, Inc.\r\n"
     ]
    }
   ],
   "source": [
    "!python --version"
   ]
  },
  {
   "cell_type": "markdown",
   "metadata": {},
   "source": [
    "#### Sample Exercises with Functions\n",
    "\n",
    "Refer to Week 6 slides for a recap of what happened in Week 6\n",
    "\n",
    "https://docs.google.com/presentation/d/1XGV2NR0ZAAmQYjlRuy81zzlW2g5lWS8L6a7iRV-lreQ/edit?usp=sharing"
   ]
  },
  {
   "cell_type": "markdown",
   "metadata": {},
   "source": [
    "**Exercise 1 - Testing your knowledge of functions **\n",
    "\n",
    "Answer the below questions\n",
    "\n",
    "1. What is a function in Python?\n",
    "2. What are the advantages of using functions?"
   ]
  },
  {
   "cell_type": "markdown",
   "metadata": {},
   "source": [
    "1- A function is a block of organized code, that acts as a black box to perform a particular function. Parameters could be passed to a function, and the function might return an output. A set of functions that perform related actions are organized in a file that could be imported from a library, example (len, sort, ...)\n",
    "2- advantage of functions is to simplify the code, by defining the common code as a function, allowing the reuse of the function when needed by calling it. in addition creating function libraries makes the code more powerful and allows multiple developers to work on different function areas."
   ]
  },
  {
   "cell_type": "markdown",
   "metadata": {},
   "source": [
    "#### Exercise 2 -  Max of three numbers\n",
    "\n",
    "Write a Python function to find the Max of three numbers.\n",
    "\n",
    "Make sure you invoke this function in your main program and display the result"
   ]
  },
  {
   "cell_type": "code",
   "execution_count": 7,
   "metadata": {},
   "outputs": [
    {
     "name": "stdout",
     "output_type": "stream",
     "text": [
      "The maximum number is: 6\n"
     ]
    }
   ],
   "source": [
    "def maxNum (a, b, c):\n",
    "    \"\"\"returns the maximum of three numbers\"\"\"\n",
    "    maxNumber = a\n",
    "    if b > maxNumber:\n",
    "        maxNumber = b\n",
    "    if c > maxNumber:\n",
    "        maxNumber = c\n",
    "    return maxNumber\n",
    "\n",
    "x= 4\n",
    "y= 6\n",
    "z= 5\n",
    "print(\"The maximum number is:\", maxNum(x,y,z))"
   ]
  },
  {
   "cell_type": "markdown",
   "metadata": {},
   "source": [
    "#### Exercise 3 - Finding the sum of numbers in a list\n",
    "\n",
    "Write a Python function to sum all the numbers in a list\n",
    "\n",
    "Make sure you invoke this function in your main program and display the result"
   ]
  },
  {
   "cell_type": "code",
   "execution_count": 11,
   "metadata": {},
   "outputs": [
    {
     "name": "stdout",
     "output_type": "stream",
     "text": [
      "sum of the list numbers: 15\n"
     ]
    }
   ],
   "source": [
    "def sumList(list1):\n",
    "    \"\"\"returns the sum of list1 elements\"\"\"\n",
    "    total = 0\n",
    "    for item in list1:\n",
    "        total += item\n",
    "    return total\n",
    "\n",
    "lista = [2, 4, 8, 1]\n",
    "print(\"sum of the list numbers:\", sumList(lista))"
   ]
  },
  {
   "cell_type": "markdown",
   "metadata": {},
   "source": [
    "#### Exercise 4 - Finding the product of numbers in a list\n",
    "\n",
    "Write a Python function to multiply all the numbers in a list\n",
    "\n",
    "Make sure you invoke this function in your main program and display the result"
   ]
  },
  {
   "cell_type": "code",
   "execution_count": 18,
   "metadata": {},
   "outputs": [
    {
     "name": "stdout",
     "output_type": "stream",
     "text": [
      "product of the list numbers: 64\n"
     ]
    }
   ],
   "source": [
    "def prodList(list1):\n",
    "    \"\"\"returns the product of list1 elements\"\"\"\n",
    "    total = 1\n",
    "    for item in list1:\n",
    "        total *= item\n",
    "    return total\n",
    "\n",
    "lista = [2, 4, 8, 1]\n",
    "print(\"product of the list numbers:\", prodList(lista))"
   ]
  },
  {
   "cell_type": "markdown",
   "metadata": {},
   "source": [
    "#### Exercise 5 - Reversing a String\n",
    "\n",
    "Write a Python function to reverse a string\n",
    "\n",
    "Make sure you invoke this function in your main program and display the result"
   ]
  },
  {
   "cell_type": "code",
   "execution_count": 19,
   "metadata": {},
   "outputs": [
    {
     "name": "stdout",
     "output_type": "stream",
     "text": [
      "reverse of the string is: elppa\n"
     ]
    }
   ],
   "source": [
    "def revString(string1):\n",
    "    \"\"\"returns string1 in reverse order\"\"\"\n",
    "    revString1 = string1[::-1]\n",
    "    return revString1\n",
    "\n",
    "example = \"apple\"\n",
    "print(\"reverse of the string is:\", revString(example))"
   ]
  },
  {
   "cell_type": "markdown",
   "metadata": {},
   "source": [
    "## OPTIONAL EXERCISES\n",
    "\n",
    "Below is a set of optional exercises. These will not be graded but the solutions will be posted. I would strongly encourage you to try these out if you are done with the mandatory homework exercises to improve your understanding of python."
   ]
  },
  {
   "cell_type": "markdown",
   "metadata": {},
   "source": [
    "#### Exercise 6\n",
    "\n",
    "Write a Python function that accepts a string and calculate the number of upper case letters and lower case letters.\n",
    "\n",
    "Make sure you invoke this function in your main program and display the result"
   ]
  },
  {
   "cell_type": "code",
   "execution_count": 26,
   "metadata": {},
   "outputs": [
    {
     "name": "stdout",
     "output_type": "stream",
     "text": [
      "The count of lower case letters is: 10\n",
      "The count of upper case letters is: 4\n"
     ]
    }
   ],
   "source": [
    "def caseCount(string1):\n",
    "    \"\"\"returns the number of upper case and lower case letters\"\"\"\n",
    "    countLow = 0\n",
    "    countHigh = 0\n",
    "    for letter in string1:\n",
    "        if letter.islower():\n",
    "            countLow += 1\n",
    "        elif letter.isupper():\n",
    "            countHigh += 1\n",
    "    return (countLow, countHigh)\n",
    "\n",
    "example = \"The Apple Is Ripe\"\n",
    "print(\"The count of lower case letters is: %i\\n\"\n",
    "       \"The count of upper case letters is: %i\" % caseCount(example)) "
   ]
  },
  {
   "cell_type": "markdown",
   "metadata": {},
   "source": [
    "#### Exercise 7\n",
    "\n",
    " Write a Python function to print the even numbers from a given list..\n",
    " \n",
    " Make sure you invoke this function in your main program and display the result"
   ]
  },
  {
   "cell_type": "code",
   "execution_count": 29,
   "metadata": {},
   "outputs": [
    {
     "name": "stdout",
     "output_type": "stream",
     "text": [
      "Even numbers: 2 4 8 "
     ]
    }
   ],
   "source": [
    "def evenList(list1):\n",
    "    \"\"\"prints the even numbers from list1\"\"\"\n",
    "    print(\"Even numbers:\", end=\" \")\n",
    "    for item in list1:\n",
    "        if item%2 == 0:\n",
    "            print(item, end =\" \")\n",
    "\n",
    "lista = [2, 4, 8, 1]\n",
    "evenList(lista)"
   ]
  },
  {
   "cell_type": "markdown",
   "metadata": {},
   "source": [
    "#### Exercise 8\n",
    "\n",
    "Write a Python function that checks whether a passed string is palindrome or not.\n",
    "\n",
    "Make sure you invoke this function in your main program and display the result"
   ]
  },
  {
   "cell_type": "code",
   "execution_count": 34,
   "metadata": {},
   "outputs": [
    {
     "name": "stdout",
     "output_type": "stream",
     "text": [
      "'apple' is not palindrome\n"
     ]
    }
   ],
   "source": [
    "def isPalin(string1):\n",
    "    \"\"\"returns True if string1 in palindrome, otherwise False\"\"\"\n",
    "    revString1 = string1[::-1]\n",
    "    return (revString1 == string1)\n",
    "\n",
    "example = \"apple\"\n",
    "if isPalin(example):\n",
    "    print(\"'%s' is palindrome\" % example)\n",
    "else:\n",
    "    print(\"'%s' is not palindrome\" % example)"
   ]
  },
  {
   "cell_type": "markdown",
   "metadata": {
    "collapsed": true
   },
   "source": [
    "#### Exercise 9\n",
    "\n",
    "Write a recursive Python program to compute the fibonnaci number for a given index.\n",
    "\n",
    "This is what a fibonacci series is https://www.mathsisfun.com/numbers/fibonacci-sequence.html\n",
    "\n",
    "Make sure you invoke this function in your main program and display the result"
   ]
  },
  {
   "cell_type": "code",
   "execution_count": 37,
   "metadata": {},
   "outputs": [
    {
     "name": "stdout",
     "output_type": "stream",
     "text": [
      "0 1 1 2 3 5 8 13 21 34 "
     ]
    }
   ],
   "source": [
    "def fibonacci(n):\n",
    "    \"\"\"returns the fibonacci number\"\"\"\n",
    "    if n==0:\n",
    "        return 0\n",
    "    elif n==1:\n",
    "        return 1\n",
    "    else:\n",
    "        return fibonacci(n-1) + fibonacci(n-2)\n",
    "\n",
    "for i in range(10):\n",
    "    print(fibonacci(i), end=\" \")"
   ]
  },
  {
   "cell_type": "markdown",
   "metadata": {},
   "source": [
    "#### Exercise 10\n",
    "\n",
    "Write a python program to autocorrect user input using the edit distance method. \n",
    "\n",
    "Make sure you invoke this function in your main program and display the result"
   ]
  },
  {
   "cell_type": "code",
   "execution_count": 31,
   "metadata": {
    "scrolled": false
   },
   "outputs": [
    {
     "name": "stdout",
     "output_type": "stream",
     "text": [
      "suggest:  ('or', 'o', 'orange', 'ora', 'n')\n"
     ]
    }
   ],
   "source": [
    "import math\n",
    "def editDistance(word1, word2):\n",
    "    \"\"\"returns edit distance between two words\"\"\"\n",
    "    mincount = 0\n",
    "    if len(word1) <= len(word2):\n",
    "        mincount = len(word1)\n",
    "    else:\n",
    "        mincount = len(word2)\n",
    "    distance = 0\n",
    "    for i in range(mincount):\n",
    "        distance += abs(ord(word1[i]) - ord(word2[i]))\n",
    "    return distance\n",
    "\n",
    "def lookup(word1, words):\n",
    "    \"\"\"return True if word1 is found in words\"\"\"\n",
    "    return (word1 in words)\n",
    "\n",
    "def suggest(word1, words):\n",
    "    \"\"\"returns the 5 closests words\"\"\"\n",
    "    #Distance dictionary keeps the distance of each dictionary word from word1\n",
    "    distanceDic = {}\n",
    "    for item in words:\n",
    "        distanceDic[item] = editDistance(word1, item)\n",
    "    #sort distance list and pick shortest 5 items\n",
    "    topWords = sorted(distanceDic, key= distanceDic.get)[0:5]\n",
    "    return tuple(topWords)\n",
    "\n",
    "checker = \"oran\"\n",
    "wordFile = open(\"20kwords.txt\")\n",
    "contents = wordFile.read()\n",
    "#split content of dictionary into words and convert to lower case\n",
    "words = contents.split()\n",
    "for item in words:\n",
    "    item.lower()\n",
    "#if item in dictionary, looks good, otherwise suggest 5 closest words\n",
    "if lookup(checker, words):\n",
    "    print(\"word looks good\")\n",
    "else:\n",
    "    print(\"suggest: \", suggest(checker, words))\n",
    "wordFile.close()\n"
   ]
  },
  {
   "cell_type": "code",
   "execution_count": null,
   "metadata": {},
   "outputs": [],
   "source": []
  }
 ],
 "metadata": {
  "kernelspec": {
   "display_name": "Python 3",
   "language": "python",
   "name": "python3"
  },
  "language_info": {
   "codemirror_mode": {
    "name": "ipython",
    "version": 3
   },
   "file_extension": ".py",
   "mimetype": "text/x-python",
   "name": "python",
   "nbconvert_exporter": "python",
   "pygments_lexer": "ipython3",
   "version": "3.6.5"
  }
 },
 "nbformat": 4,
 "nbformat_minor": 2
}
