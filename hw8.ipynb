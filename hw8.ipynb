{
 "cells": [
  {
   "cell_type": "markdown",
   "metadata": {},
   "source": [
    "\n",
    "# CIS024C - Summer 2018\n",
    "\n",
    "## Homework 8\n",
    "\n",
    "Homework 8 covers exercises that involve Exception Handling\n",
    "\n",
    "The below sites have some interesting and useful information on working with files\n",
    "\n",
    "* Errors and Exceptions: https://docs.python.org/2/tutorial/errors.html\n",
    "* Built-in Exceptions: https://docs.python.org/2/library/exceptions.html\n",
    "\n",
    "You will need to download this notebook and use this as a starting point for your homework. You will just need to fill in the content of each code-block (cell) and execute. Once you have completed all the exercises, you will need to save and upload this to your github repository under a folder called hw7.\n",
    "\n",
    "Note also the exercises build on top of one another so you might be able to do the next exercise if you have not completed the previous exercise.\n",
    "\n",
    "Post any questions you have on our Slack at **cis-024c1.slack.com**\n",
    "\n",
    "** Slides ** for Week 7 can be found at \n",
    "\n",
    "https://docs.google.com/presentation/d/1HcWIuVciM0_L935Umi5rPgQHJYIv1bNfYnErfOelbtw/edit?usp=sharing\n",
    "\n",
    "**Please refer back to hw1 and slack for instructions on how to setup your computer for developing using Python.**"
   ]
  },
  {
   "cell_type": "markdown",
   "metadata": {},
   "source": [
    "### Helpful Jupyter Commands\n",
    "\n",
    "Below are some useful commands to know when using Jupyter\n",
    "\n",
    "1. You can add a new cell by clicking on the \"+\" icon on top.\n",
    "2. You can delete a cell by selecting that cell and clicking on the \"scissors\" icon on top.\n",
    "3. You can execute a cell by either pressing shift+enter or selecting the \"play\" button on top.\n",
    "4. You can create a new file in Jupyter via the File menu->New Notebook option. Make sure to select Python 2 when creating your notebook.\n",
    "5. Also, for your code blocks make sure that Code is selected instead of another option like Markdown.\n",
    "6. Use the Enter key to go to the next line in a cell to enter the next statement.\n",
    "7. You can clear results by clicking on the Cell menu item and selecting Current Output->Clear or All Output->Clear depending on whether you are trying to just clear the output for one cell or for all cells.\n",
    "8. In case your program has crashed for some reason (infinite loop, for example), you can restart your Python session by select Kernel in the menu and selecting Restart.\n"
   ]
  },
  {
   "cell_type": "markdown",
   "metadata": {},
   "source": [
    "#### Check Python Version"
   ]
  },
  {
   "cell_type": "code",
   "execution_count": 24,
   "metadata": {},
   "outputs": [
    {
     "name": "stdout",
     "output_type": "stream",
     "text": [
      "Python 3.6.5 :: Anaconda, Inc.\r\n"
     ]
    }
   ],
   "source": [
    "!python --version"
   ]
  },
  {
   "cell_type": "markdown",
   "metadata": {},
   "source": [
    "**Exercise 1 - Testing your knowledge of Exceptions **\n",
    "\n",
    "Answer the below questions\n",
    "\n",
    "1. What is the difference between a Syntax Error and a Runtime Error?\n",
    "2. Are exceptions Syntax Errors or Runtime Errors?\n",
    "3. How do exceptions help a programmer?\n",
    "4. Which exception is raised when the user tries to use a variable that has not been defined?"
   ]
  },
  {
   "cell_type": "markdown",
   "metadata": {},
   "source": [
    "1- Syntax error is a grammatical error in the program, for example not putting a : at the end of an if statement,\n",
    "those errors are caught at interpretation time. \n",
    "Run time errors happen while the program is running, as the data is changing, for example a variable can become\n",
    "zero and can be used as a denominator in an operation at run time."
   ]
  },
  {
   "cell_type": "code",
   "execution_count": null,
   "metadata": {},
   "outputs": [],
   "source": [
    "2- Exceptions are runtime errors"
   ]
  },
  {
   "cell_type": "code",
   "execution_count": null,
   "metadata": {},
   "outputs": [],
   "source": [
    "3- Exceptions help the programmer deal with situations where otherwise the program will crash and provide a bad \n",
    "user interface behavior. Exception handling helps deal with an error properly and pervents the program from \n",
    "crashing by asking the user for example to enter a new value, or in other cases closing files properly and \n",
    "displaying an appropriate message to the user like file not found."
   ]
  },
  {
   "cell_type": "code",
   "execution_count": null,
   "metadata": {},
   "outputs": [],
   "source": [
    "4- The exception NameError occurs when a variable that is not defined gets used."
   ]
  },
  {
   "cell_type": "markdown",
   "metadata": {},
   "source": [
    "#### Exercise 2 -  Raising Exceptions\n",
    "\n",
    "Write python programs that raise the following exceptions.\n",
    "\n",
    "1. ValueError\n",
    "2. TypeError\n",
    "3. IndexError\n",
    "4. KeyError"
   ]
  },
  {
   "cell_type": "code",
   "execution_count": 5,
   "metadata": {},
   "outputs": [
    {
     "name": "stdout",
     "output_type": "stream",
     "text": [
      "ValueError exception: invalid literal for int() with base 10: 's32'\n"
     ]
    }
   ],
   "source": [
    "try:\n",
    "    int(\"s32\")\n",
    "except ValueError as err:\n",
    "    print(\"ValueError exception:\", err)"
   ]
  },
  {
   "cell_type": "code",
   "execution_count": 6,
   "metadata": {},
   "outputs": [
    {
     "name": "stdout",
     "output_type": "stream",
     "text": [
      "TypeError exception: unsupported operand type(s) for +: 'int' and 'str'\n"
     ]
    }
   ],
   "source": [
    "try:\n",
    "    y = 3 + \"Mike\"\n",
    "except TypeError as err:\n",
    "    print(\"TypeError exception:\", err)    "
   ]
  },
  {
   "cell_type": "code",
   "execution_count": 7,
   "metadata": {},
   "outputs": [
    {
     "name": "stdout",
     "output_type": "stream",
     "text": [
      "IndexError exception: list index out of range\n"
     ]
    }
   ],
   "source": [
    "try:\n",
    "    list1 = [1,2,3]\n",
    "    y = list1[4]\n",
    "except IndexError as err:\n",
    "    print(\"IndexError exception:\", err) "
   ]
  },
  {
   "cell_type": "code",
   "execution_count": 8,
   "metadata": {},
   "outputs": [
    {
     "name": "stdout",
     "output_type": "stream",
     "text": [
      "KeyError exception: 4\n"
     ]
    }
   ],
   "source": [
    "try:\n",
    "    nameDict = {1:\"Mike\", 2:\"harry\", 3:\"Tony\"}\n",
    "    y = nameDict[4]\n",
    "except KeyError as err:\n",
    "    print(\"KeyError exception:\", err) "
   ]
  },
  {
   "cell_type": "markdown",
   "metadata": {},
   "source": [
    "#### Exercise 3 - Handling Exceptions\n",
    "\n",
    "Write a Python program that asks the user to enter a GPA (integer values - 0,1,2,3 or 4). Convert the input from the user into an integer. Write an exception handler to handle the ValueError exception and display the message \"ValueError occurred. Please try again\". If the value entered by the user is not compatible with integer values the program will raise a ValueError exception and display the message from within the exception handler."
   ]
  },
  {
   "cell_type": "code",
   "execution_count": 14,
   "metadata": {},
   "outputs": [
    {
     "name": "stdout",
     "output_type": "stream",
     "text": [
      "Enter a GPA 0-4:s3\n",
      "ValueError occured, try again\n"
     ]
    }
   ],
   "source": [
    "try:\n",
    "    valueStr = input(\"Enter a GPA 0-4:\")\n",
    "    value = int(valueStr)\n",
    "    if value < 0 or value > 4:\n",
    "        raise ValueError\n",
    "except ValueError as err:\n",
    "    print(\"ValueError occured, try again\")\n",
    "    "
   ]
  },
  {
   "cell_type": "markdown",
   "metadata": {},
   "source": [
    "#### Exercise 4 - Displaying the error description in an Exception\n",
    "\n",
    "Create a list of **5** items in a grocery cart. For example, your list can be something like the below\n",
    "\n",
    "**Example of a list with 2 items:**\n",
    "groceryList = [\"suger\",\"rice\"]\n",
    "\n",
    "Write an exception handler to handle an IndexError exceptio and store the details of the exception in a variable called **details**. If the exception occurs, print out a message saying \"Exception Occurred\" along with the details (from **details** variable). \n",
    "\n",
    "In your program attempt to access the 6th item in the list. \n",
    "\n",
    "Since there are only 5 elements, the exception handler should be triggered and the message printed inside the exception should be printed."
   ]
  },
  {
   "cell_type": "code",
   "execution_count": 15,
   "metadata": {},
   "outputs": [
    {
     "name": "stdout",
     "output_type": "stream",
     "text": [
      "Exception Occured: list index out of range\n"
     ]
    }
   ],
   "source": [
    "groceryList = [\"sugar\", \"rice\", \"soap\", \"bread\", \"jam\"]\n",
    "try:\n",
    "    y = groceryList[5]\n",
    "except IndexError as details:\n",
    "    print(\"Exception Occured:\", details)"
   ]
  },
  {
   "cell_type": "markdown",
   "metadata": {},
   "source": [
    "#### Exercise 5 - Using loops to wait for a user to enter a valid value\n",
    "\n",
    "**This is a partial repeat of problem 1. You should be able to reuse that code**\n",
    "\n",
    "Write a Python program that asks the user to enter a GPA (integer values - 0,1,2,3 or 4). Convert the input from the user into an integer. Write an exception handler to handle the ValueError exception and display the message \"ValueError occurred. Please try again\". If the value entered by the user is not compatible with integer values the program will raise a ValueError exception and display the message from within the exception handler.\n",
    "\n",
    "Place the above code to get user input inside a **while** loop. As long as the user is entering an invalid numeric value, the program should **continue** to prompt the user to enter the GPA. When the user enters a correct value, the program should **break** out of the while loop and print the GPA.\n",
    "\n",
    "**Please see classwork for similar examples**"
   ]
  },
  {
   "cell_type": "code",
   "execution_count": 26,
   "metadata": {},
   "outputs": [
    {
     "name": "stdout",
     "output_type": "stream",
     "text": [
      "Enter a GPA 0-4:E3\n",
      "ValueError occurred. Please try again\n",
      "Enter a GPA 0-4:6\n",
      "ValueError occurred. Please try again\n",
      "Enter a GPA 0-4:3\n",
      "The GPA you entered is: 3\n"
     ]
    }
   ],
   "source": [
    "while True:\n",
    "    gpaStr = input(\"Enter a GPA 0-4:\")\n",
    "    try:\n",
    "        gpa = int(gpaStr)\n",
    "        if gpa < 0 or gpa >4:\n",
    "            raise ValueError\n",
    "        print(\"The GPA you entered is:\", gpa)\n",
    "        break\n",
    "    except ValueError:\n",
    "        print(\"ValueError occurred. Please try again\")"
   ]
  },
  {
   "cell_type": "markdown",
   "metadata": {},
   "source": [
    "## OPTIONAL EXERCISES\n",
    "\n",
    "Below is a set of optional exercises. These will not be graded but the solutions will be posted. I would strongly encourage you to try these out if you are done with the mandatory homework exercises to improve your understanding of python."
   ]
  },
  {
   "cell_type": "markdown",
   "metadata": {},
   "source": [
    "#### Exercise 6\n",
    "\n",
    "Write a python program to build a simple chatbot. The chatbot will accept input from the user, check the input against a dictionary and display the corresponding value. \n",
    "\n",
    "Below is the dictionary that the chatbot will use.\n",
    "\n",
    "```\n",
    "conversationsDict = {\n",
    "'how are you':'I am fine, thank you.How are you today',\n",
    "'i am well':'Cool! How can I help you today',\n",
    "'can you tell me what the weather is like today':'Sure. It looks mostly sunny with a high of 80 degrees',\n",
    "'thank you very much':'You are welcome. Have a nice day'\n",
    "}\n",
    "```\n",
    "\n",
    "Note that the dictionary **key** is the value entered by the user and the **value** is the response from the chatbot. The chatbot must use the user input to look up the dictionary for a response. If a response is found, then the chatbot must print the response. If the key is Invalid, then a KeyError exception handler must handle the exception displaying the messsage \"Sorry, I did not get that\". It must then allow the user to repeat the question."
   ]
  },
  {
   "cell_type": "code",
   "execution_count": 20,
   "metadata": {},
   "outputs": [
    {
     "name": "stdout",
     "output_type": "stream",
     "text": [
      "Please ask me anything:hello\n",
      "Sorry, I did not get that\n",
      "Please ask me anything:how are you\n",
      "I am fine, thank you.How are you today\n"
     ]
    }
   ],
   "source": [
    "conversationsDict = {\n",
    "'how are you':'I am fine, thank you.How are you today',\n",
    "'i am well':'Cool! How can I help you today',\n",
    "'can you tell me what the weather is like today':'Sure. It looks mostly sunny with a high of 80 degrees',\n",
    "'thank you very much':'You are welcome. Have a nice day'\n",
    "}\n",
    "while True:\n",
    "    userIn = input(\"Please ask me anything:\")\n",
    "    try:\n",
    "        value = conversationsDict[userIn]\n",
    "        print(value)\n",
    "        break\n",
    "    except KeyError:\n",
    "        print(\"Sorry, I did not get that\")"
   ]
  },
  {
   "cell_type": "markdown",
   "metadata": {},
   "source": [
    "#### Exercise 7\n",
    "\n",
    "Write two Python  to compute the average of a list of numbers. The inputs to the function is a python **List**. The output is the average. The function must have an Exception handler to handle the **ZeroDivisionError exception**. \n",
    "\n",
    "Verify that the ZeroDivisionError handler works by passing in an empty list."
   ]
  },
  {
   "cell_type": "code",
   "execution_count": 22,
   "metadata": {},
   "outputs": [
    {
     "name": "stdout",
     "output_type": "stream",
     "text": [
      "ZeroDivisionError exception: division by zero\n",
      "None\n"
     ]
    }
   ],
   "source": [
    "def avList(list1):\n",
    "    \"\"\"return the average of list1\"\"\"\n",
    "    average = None\n",
    "    try:\n",
    "        average = sum(list1)/len(list1)\n",
    "    except ZeroDivisionError as err:\n",
    "        print(\"ZeroDivisionError exception:\", err)\n",
    "    return average\n",
    "\n",
    "list1 = []\n",
    "print(avList(list1))"
   ]
  },
  {
   "cell_type": "markdown",
   "metadata": {},
   "source": [
    "#### Exercise 8\n",
    "\n",
    "Write a python program that accepts a sequence of words, some of them numbers. Attempt to perform an integer add on all the words that were entered. If a word that is not a number is encountered, use the ValueError to skip the next word. Display the resulting sum of all the numbers."
   ]
  },
  {
   "cell_type": "code",
   "execution_count": 27,
   "metadata": {},
   "outputs": [
    {
     "name": "stdout",
     "output_type": "stream",
     "text": [
      "Enter a sequence of numbers or words:1 apple banana 3 4 strawberry 5\n",
      "The sum of all the numbers in your list is: 13\n"
     ]
    }
   ],
   "source": [
    "inString = input(\"Enter a sequence of numbers or words:\")\n",
    "words= inString.split(\" \")\n",
    "sum1 = 0\n",
    "for word in words:\n",
    "    try: \n",
    "        sum1 += int(word)\n",
    "    except ValueError:\n",
    "        continue\n",
    "print(\"The sum of all the numbers in your list is:\", sum1)"
   ]
  }
 ],
 "metadata": {
  "kernelspec": {
   "display_name": "Python 3",
   "language": "python",
   "name": "python3"
  },
  "language_info": {
   "codemirror_mode": {
    "name": "ipython",
    "version": 3
   },
   "file_extension": ".py",
   "mimetype": "text/x-python",
   "name": "python",
   "nbconvert_exporter": "python",
   "pygments_lexer": "ipython3",
   "version": "3.6.5"
  }
 },
 "nbformat": 4,
 "nbformat_minor": 2
}
