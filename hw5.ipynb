{
 "cells": [
  {
   "cell_type": "markdown",
   "metadata": {},
   "source": [
    "\n",
    "# CIS024C - Summer 2018  \n",
    "\n",
    "## Homework 5\n",
    "\n",
    "Homework 5 covers exercises in basic collection objects in Python - lists, tuples and dictionaries.\n",
    "\n",
    "The below sites have some interesting and useful information on these objects.\n",
    "\n",
    "http://sthurlow.com/python/lesson06/\n",
    "https://docs.python.org/2/tutorial/datastructures.html\n",
    "\n",
    "You will need to download this notebook and use this as a starting point for your homework. You will just need to fill in the content of each code-block (cell) and execute. Once you have completed all the exercises, you will need to save and upload this to your github repository under a folder called hw4\n",
    "\n",
    "Note also the exercises build on top of one another so you might be able to do the next exercise if you have not completed the previous exercise.\n",
    "\n",
    "Post any questions you have on our Slack at **cis-024c1.slack.com**\n",
    "\n",
    "\n",
    "** Slides ** for Week 4 can be found at https://docs.google.com/presentation/d/1xhyxix3nF5A26qQTe1gSYJcYjUIipnz9BtZO04GvgJ4/edit?usp=sharing\n",
    "\n",
    "**Please refer back to hw1 and slack for instructions on how to setup your computer for developing using Python.**"
   ]
  },
  {
   "cell_type": "markdown",
   "metadata": {},
   "source": [
    "### Helpful Jupyter Commands\n",
    "\n",
    "Below are some useful commands to know when using Jupyter\n",
    "\n",
    "1. You can add a new cell by clicking on the \"+\" icon on top.\n",
    "2. You can delete a cell by selecting that cell and clicking on the \"scissors\" icon on top.\n",
    "3. You can execute a cell by either pressing shift+enter or selecting the \"play\" button on top.\n",
    "4. You can create a new file in Jupyter via the File menu->New Notebook option. Make sure to select Python 2 when creating your notebook.\n",
    "5. Also, for your code blocks make sure that Code is selected instead of another option like Markdown.\n",
    "6. Use the Enter key to go to the next line in a cell to enter the next statement.\n",
    "7. You can clear results by clicking on the Cell menu item and selecting Current Output->Clear or All Output->Clear depending on whether you are trying to just clear the output for one cell or for all cells.\n",
    "8. In case your program has crashed for some reason (infinite loop, for example), you can restart your Python session by select Kernel in the menu and selecting Restart.\n"
   ]
  },
  {
   "cell_type": "markdown",
   "metadata": {},
   "source": [
    "#### Check Python Version"
   ]
  },
  {
   "cell_type": "code",
   "execution_count": 2,
   "metadata": {},
   "outputs": [
    {
     "name": "stdout",
     "output_type": "stream",
     "text": [
      "Python 3.6.5 :: Anaconda, Inc.\r\n"
     ]
    }
   ],
   "source": [
    "!python --version"
   ]
  },
  {
   "cell_type": "markdown",
   "metadata": {},
   "source": [
    "#### Sample Exercises with conditionals and repetitions\n",
    "\n",
    "Refer to Week 4 classwork for sample exercises - https://github.com/cis024c/spring2018classwork/tree/master/week4"
   ]
  },
  {
   "cell_type": "markdown",
   "metadata": {},
   "source": [
    "**Exercise 1 - Testing your knowledge of lists, tuples and dictionaries**\n",
    "\n",
    "Answer the below questions\n",
    "\n",
    "1. What is the main difference between a list and a tuple\n",
    "2. How does a dictionary object differ from a list."
   ]
  },
  {
   "cell_type": "markdown",
   "metadata": {},
   "source": [
    "1- The main difference between a list and a tuple is that a tuple is immutable, meaning you cannnot delete and insert elements in a tuple it without creating another tuple. Whereas in a list you can insert, append and pop elements arbitrarily.\n",
    "\n",
    "2- The key in a dictionary is very arbitrary and based on any element that can be hashed, searching in a dictionary is based on that key. The key in a list is referred to as an index, it is not dsiplayed as part of the list, but it is based on the order of the elements of the list and starts at number zero for the first element index and goes up or it can start from -1 for the last element and goes down from there. So there is an order to a list based on the index, you can insert elements or delete elements based on that index order. In a dictionary element searching is based on key hashing and there is no order for the element search."
   ]
  },
  {
   "cell_type": "markdown",
   "metadata": {},
   "source": [
    "#### Exercise 2 -  Initializing a list, tuple and dictionary\n",
    "\n",
    "1. Create a list object with a set of any 10 numbers. Print the result\n",
    "2. Create a tuple object with a set of 10 numbers. Print the result\n",
    "3. Create a dictionary object with a set of 10 numbers. Print the result"
   ]
  },
  {
   "cell_type": "code",
   "execution_count": 8,
   "metadata": {},
   "outputs": [
    {
     "name": "stdout",
     "output_type": "stream",
     "text": [
      "myList is:  [1, 2, 3, 4, 5, 6, 7, 8, 9, 10]\n",
      "myTuple is:  (1, 2, 3, 4, 5, 6, 7, 8, 9, 10)\n",
      "myDictionary studentID:Name :\n",
      " {1234: 'Mitri Halabi', 2231: 'Harry Smith', 3433: 'Mary Klein', 5656: 'Joe Smith', 4532: 'Joe Klein', 5689: 'Mike Colvin', 3131: 'Maya Vernon', 5857: 'maya Klein', 1112: 'Mitri Klein', 1313: 'Sam Hale'}\n"
     ]
    }
   ],
   "source": [
    "myList = [1, 2, 3, 4, 5, 6, 7, 8, 9, 10]\n",
    "print(\"myList is: \", myList)\n",
    "myTuple = (1, 2, 3, 4, 5, 6, 7, 8, 9, 10)\n",
    "print(\"myTuple is: \", myTuple)\n",
    "myDictionary = {1234 : \"Mitri Halabi\" , 2231 : \"Harry Smith\", 3433 : \"Mary Klein\" , 5656 : \"Joe Smith\", \n",
    "                4532 : \"Joe Klein\", 5689 : \"Mike Colvin\", 3131 : \"Maya Vernon\", 5857: \"maya Klein\",\n",
    "                1112 : \"Mitri Klein\", 1313 : \"Sam Hale\"}\n",
    "print(\"myDictionary studentID:Name :\\n\", myDictionary)"
   ]
  },
  {
   "cell_type": "markdown",
   "metadata": {},
   "source": [
    "#### Exercise 3 - Displaying values in a list object\n",
    "\n",
    "Create a list object with 10 arbitrary numbers. Use a ** for loop ** to display every other element. \n",
    "\n",
    "**Example:**\n",
    "\n",
    "If your list has [2,3,4,5,6], then you will need to display [2,4,6]\n",
    "\n",
    "**Hint:** Make use the last step parameter in the range function to do this"
   ]
  },
  {
   "cell_type": "code",
   "execution_count": 18,
   "metadata": {},
   "outputs": [
    {
     "name": "stdout",
     "output_type": "stream",
     "text": [
      "1 3 5 7 9 "
     ]
    }
   ],
   "source": [
    "myList = [1, 2, 3, 4, 5, 6, 7, 8, 9, 10]\n",
    "for index in range(0,len(myList),2):\n",
    "    print(myList[index], end= \" \")"
   ]
  },
  {
   "cell_type": "markdown",
   "metadata": {},
   "source": [
    "#### Exercise 4 - Sorting a list of strings\n",
    "\n",
    "Ask the user to enter a list of names. Sort the names in ascending order. \n",
    "\n",
    "Hint: Use the same logic that we used in class to sort numbers. When used with strings, Python will sort the strings in alphabetical order"
   ]
  },
  {
   "cell_type": "code",
   "execution_count": 19,
   "metadata": {},
   "outputs": [
    {
     "name": "stdout",
     "output_type": "stream",
     "text": [
      "Enter a list of names separated by commas: Banana, apple, table, Pear, chair, door, fruit\n",
      "apple banana chair door fruit pear table "
     ]
    }
   ],
   "source": [
    "text = input(\"Enter a list of names separated by commas: \")\n",
    "#convert to lower case\n",
    "text = text.lower()\n",
    "rawWords = text.split(\",\")\n",
    "#strip spaces and generate clean list\n",
    "items = []\n",
    "for word in rawWords:\n",
    "    items.append(word.strip())\n",
    "items.sort()\n",
    "for item in items:\n",
    "    print(item, end= \" \")"
   ]
  },
  {
   "cell_type": "markdown",
   "metadata": {},
   "source": [
    "#### Exercise 5 - Accessing values in a dictionary object\n",
    "\n",
    "Initialize a dictionary object with the below key, value pairs\n",
    "\n",
    " Key  | Value\n",
    " -----|------\n",
    "1|Harry\n",
    "2|Sally\n",
    "3|Joe\n",
    "4|Mathew\n",
    "\n",
    "Ask the user to enter a key between 1 and 4.\n",
    "\n",
    "Display the corresponding value in the dictionary\n",
    "\n",
    "\n"
   ]
  },
  {
   "cell_type": "code",
   "execution_count": 23,
   "metadata": {},
   "outputs": [
    {
     "name": "stdout",
     "output_type": "stream",
     "text": [
      "Enter a number between 1-4: 3\n",
      "The value of key 3 is: Joe\n"
     ]
    }
   ],
   "source": [
    "myDictionary = { 1 : \"Harry\", 2 : \"Sally\", 3 : \"Joe\", 4 : \"Mathew\"}\n",
    "key = int(input(\"Enter a number between 1-4: \"))\n",
    "print(\"The value of key\", key, \"is:\", myDictionary[key])"
   ]
  },
  {
   "cell_type": "markdown",
   "metadata": {},
   "source": [
    "## OPTIONAL EXERCISES\n",
    "\n",
    "Below is a set of optional exercises. These will not be graded but the solutions will be posted. I would strongly encourage you to try these out if you are done with the mandatory homework exercises to improve your understanding of python."
   ]
  },
  {
   "cell_type": "markdown",
   "metadata": {},
   "source": [
    "#### Exercise 6\n",
    "\n",
    "Write a Python script to check if a given key already exists in a dictionary\n",
    "\n",
    "**Hint**: Use the **get** method to determine if a key exists"
   ]
  },
  {
   "cell_type": "code",
   "execution_count": 24,
   "metadata": {},
   "outputs": [
    {
     "name": "stdout",
     "output_type": "stream",
     "text": [
      "Dictionary has key: 2\n",
      "Dictonary does not have key: 5\n"
     ]
    }
   ],
   "source": [
    "myDictionary = { 1 : \"Harry\", 2 : \"Sally\", 3 : \"Joe\", 4 : \"Mathew\"}\n",
    "keys = [2,5]\n",
    "for key in keys:\n",
    "    if myDictionary.get(key):\n",
    "        print(\"Dictionary has key:\", key)\n",
    "    else:\n",
    "        print(\"Dictonary does not have key:\", key)"
   ]
  },
  {
   "cell_type": "markdown",
   "metadata": {},
   "source": [
    "#### Exercise 7\n",
    "\n",
    "Write a Python script to create a dictionary that contains a sequence of numbers from 1 to n and their squares. Ask the user to enter n. Display the resulting dictionary.\n",
    "\n",
    "**Example**\n",
    "If user enters 5, then your dictionary will look like\n",
    "\n",
    "{1:1,2:4,3:9:4:16,5:25}\n",
    "\n",
    "**Hint** You will need to assign new values to the dictionary to create the dictionary object"
   ]
  },
  {
   "cell_type": "code",
   "execution_count": 27,
   "metadata": {},
   "outputs": [
    {
     "name": "stdout",
     "output_type": "stream",
     "text": [
      "Enter a number: 5\n",
      "{1: 1, 2: 4, 3: 9, 4: 16, 5: 25}\n"
     ]
    }
   ],
   "source": [
    "number = int(input(\"Enter a number: \"))\n",
    "myDictionary = {}\n",
    "for i in range(1, number+1):\n",
    "    myDictionary[i] = i**2\n",
    "print(myDictionary)"
   ]
  },
  {
   "cell_type": "markdown",
   "metadata": {},
   "source": [
    "#### Exercise 8\n",
    "\n",
    "Refer to Exercise 7 for this problem.\n",
    "\n",
    "Write a python program to sum all the values in the above dictionary (n:n^2). Display the resulting sum\n"
   ]
  },
  {
   "cell_type": "code",
   "execution_count": 43,
   "metadata": {},
   "outputs": [
    {
     "name": "stdout",
     "output_type": "stream",
     "text": [
      "Enter a number: 5\n",
      "The total sum of the values in this dictionary is: 55\n"
     ]
    }
   ],
   "source": [
    "# create dictionary\n",
    "number = int(input(\"Enter a number: \"))\n",
    "myDictionary = {}\n",
    "for i in range(1, number+1):\n",
    "    myDictionary[i] = i**2\n",
    "# calculate the sum of the values\n",
    "sum = 0\n",
    "for key in myDictionary:\n",
    "    sum += myDictionary[key]\n",
    "print(\"The total sum of the values in this dictionary is:\", sum)"
   ]
  },
  {
   "cell_type": "markdown",
   "metadata": {},
   "source": [
    "#### Exercise 9\n",
    "\n",
    "Write a Python program to sort the below dictionary by key in descending order. \n",
    "\n",
    " {2:\"Mary\",1:\"Sally\",5:\"Harry\",4:\"Joe\"}\n",
    " \n",
    "**Hint:** Refer to the class example"
   ]
  },
  {
   "cell_type": "code",
   "execution_count": 35,
   "metadata": {},
   "outputs": [
    {
     "name": "stdout",
     "output_type": "stream",
     "text": [
      "{5: 'Harry', 4: 'Joe', 2: 'Mary', 1: 'Sally'}\n"
     ]
    }
   ],
   "source": [
    "names = {2:\"Mary\",1:\"Sally\",5:\"Harry\",4:\"Joe\"}\n",
    "sortedkeys = sorted(names.keys(), reverse = True)\n",
    "sortedDic = {}\n",
    "for key in sortedkeys:\n",
    "    sortedDic[key] = names[key]\n",
    "print(sortedDic)"
   ]
  },
  {
   "cell_type": "markdown",
   "metadata": {},
   "source": [
    "#### Exercise 10\n",
    "\n",
    "Write a python program to combine the below two dictionaries and display the resulting dictionary\n",
    "\n",
    "* Dictionary 1:  {2:\"Mary\",1:\"Sally\",5:\"Harry\",4:\"Joe\"}\n",
    "* Dictionary 2:  {6:\"John\",9:\"Nancy\",12:\"Peter\",8:\"Alice\"}\n",
    " "
   ]
  },
  {
   "cell_type": "code",
   "execution_count": 42,
   "metadata": {},
   "outputs": [
    {
     "name": "stdout",
     "output_type": "stream",
     "text": [
      "{2: 'Mary', 1: 'Sally', 5: 'Harry', 4: 'Joe', 6: 'John', 9: 'Nancy', 12: 'Peter', 8: 'Alice'}\n"
     ]
    }
   ],
   "source": [
    "dictionary1 = {2:\"Mary\",1:\"Sally\",5:\"Harry\",4:\"Joe\"}\n",
    "dictionary2 = {6:\"John\",9:\"Nancy\",12:\"Peter\",8:\"Alice\"}\n",
    "dictionary1.update(dictionary2)\n",
    "print(dictionary1)"
   ]
  }
 ],
 "metadata": {
  "kernelspec": {
   "display_name": "Python 3",
   "language": "python",
   "name": "python3"
  },
  "language_info": {
   "codemirror_mode": {
    "name": "ipython",
    "version": 3
   },
   "file_extension": ".py",
   "mimetype": "text/x-python",
   "name": "python",
   "nbconvert_exporter": "python",
   "pygments_lexer": "ipython3",
   "version": "3.6.5"
  }
 },
 "nbformat": 4,
 "nbformat_minor": 2
}
